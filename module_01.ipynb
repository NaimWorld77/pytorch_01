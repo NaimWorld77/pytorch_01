{
 "cells": [
  {
   "cell_type": "code",
   "execution_count": 1,
   "metadata": {},
   "outputs": [
    {
     "data": {
      "text/plain": [
       "'2.4.1+cu121'"
      ]
     },
     "execution_count": 1,
     "metadata": {},
     "output_type": "execute_result"
    }
   ],
   "source": [
    "import torch\n",
    "torch.__version__"
   ]
  },
  {
   "cell_type": "code",
   "execution_count": 3,
   "metadata": {},
   "outputs": [
    {
     "data": {
      "text/plain": [
       "tensor(4)"
      ]
     },
     "execution_count": 3,
     "metadata": {},
     "output_type": "execute_result"
    }
   ],
   "source": [
    "scaler = torch.tensor(4)\n",
    "scaler"
   ]
  },
  {
   "cell_type": "code",
   "execution_count": 15,
   "metadata": {},
   "outputs": [
    {
     "data": {
      "text/plain": [
       "tensor([3, 2, 4])"
      ]
     },
     "execution_count": 15,
     "metadata": {},
     "output_type": "execute_result"
    }
   ],
   "source": [
    "vector = torch.tensor([3, 2, 4])\n",
    "vector"
   ]
  },
  {
   "cell_type": "code",
   "execution_count": 17,
   "metadata": {},
   "outputs": [
    {
     "name": "stdout",
     "output_type": "stream",
     "text": [
      "2\n",
      "torch.Size([2, 2])\n"
     ]
    }
   ],
   "source": [
    "MATRIX = torch.tensor([[7, 7],\n",
    "                       [8, 8]])\n",
    "\n",
    "print(MATRIX.ndim)\n",
    "print(MATRIX.shape)"
   ]
  },
  {
   "cell_type": "code",
   "execution_count": 28,
   "metadata": {},
   "outputs": [
    {
     "data": {
      "text/plain": [
       "tensor([[[1, 2, 3],\n",
       "         [4, 5, 6],\n",
       "         [7, 8, 9]]])"
      ]
     },
     "execution_count": 28,
     "metadata": {},
     "output_type": "execute_result"
    }
   ],
   "source": [
    "TENSOR = torch.tensor([[[1,2,3],\n",
    "                        [4,5,6],\n",
    "                        [7,8,9]]])\n",
    "TENSOR"
   ]
  },
  {
   "cell_type": "code",
   "execution_count": 25,
   "metadata": {},
   "outputs": [
    {
     "data": {
      "text/plain": [
       "3"
      ]
     },
     "execution_count": 25,
     "metadata": {},
     "output_type": "execute_result"
    }
   ],
   "source": [
    "TENSOR.ndim"
   ]
  },
  {
   "cell_type": "code",
   "execution_count": 26,
   "metadata": {},
   "outputs": [
    {
     "data": {
      "text/plain": [
       "torch.Size([1, 3, 3])"
      ]
     },
     "execution_count": 26,
     "metadata": {},
     "output_type": "execute_result"
    }
   ],
   "source": [
    "TENSOR.shape"
   ]
  },
  {
   "cell_type": "code",
   "execution_count": 40,
   "metadata": {},
   "outputs": [
    {
     "data": {
      "text/plain": [
       "tensor([[0.4945, 0.5052, 0.7443, 0.5043],\n",
       "        [0.3385, 0.0494, 0.2612, 0.5086],\n",
       "        [0.1827, 0.5686, 0.8533, 0.0782]])"
      ]
     },
     "execution_count": 40,
     "metadata": {},
     "output_type": "execute_result"
    }
   ],
   "source": [
    "# Create a tensor of random numbers (torch.rand(size=()))\n",
    "random_tensor = torch.rand(size=(3, 4))\n",
    "random_tensor"
   ]
  },
  {
   "cell_type": "code",
   "execution_count": 41,
   "metadata": {},
   "outputs": [
    {
     "name": "stdout",
     "output_type": "stream",
     "text": [
      "torch.float32\n",
      "2\n",
      "torch.Size([3, 4])\n"
     ]
    }
   ],
   "source": [
    "print(random_tensor.dtype)\n",
    "print(random_tensor.ndim)\n",
    "print(random_tensor.shape)\n"
   ]
  },
  {
   "cell_type": "code",
   "execution_count": 42,
   "metadata": {},
   "outputs": [
    {
     "name": "stdout",
     "output_type": "stream",
     "text": [
      "3\n",
      "torch.Size([224, 224, 3])\n",
      "torch.float32\n",
      "tensor([[[0.6949, 0.0891, 0.7026],\n",
      "         [0.1241, 0.2900, 0.0649],\n",
      "         [0.7788, 0.4356, 0.0511],\n",
      "         ...,\n",
      "         [0.8311, 0.9193, 0.0525],\n",
      "         [0.7835, 0.5328, 0.8851],\n",
      "         [0.4472, 0.0764, 0.5712]],\n",
      "\n",
      "        [[0.3614, 0.8258, 0.5834],\n",
      "         [0.4296, 0.3661, 0.7082],\n",
      "         [0.0259, 0.2930, 0.2438],\n",
      "         ...,\n",
      "         [0.2500, 0.3541, 0.9560],\n",
      "         [0.6564, 0.0502, 0.9982],\n",
      "         [0.3575, 0.5764, 0.0893]]])\n"
     ]
    }
   ],
   "source": [
    "random_image_size_tensor = torch.rand(size=(224, 224, 3))\n",
    "print(random_image_size_tensor.ndim)\n",
    "print(random_image_size_tensor.shape)\n",
    "print(random_image_size_tensor.dtype)\n",
    "print(random_image_size_tensor[:2])\n"
   ]
  },
  {
   "cell_type": "code",
   "execution_count": 43,
   "metadata": {},
   "outputs": [
    {
     "name": "stdout",
     "output_type": "stream",
     "text": [
      "tensor([[0., 0., 0., 0., 0.],\n",
      "        [0., 0., 0., 0., 0.],\n",
      "        [0., 0., 0., 0., 0.],\n",
      "        [0., 0., 0., 0., 0.]])\n",
      "2\n",
      "torch.Size([4, 5])\n"
     ]
    }
   ],
   "source": [
    "# Create a tensor of all zeros\n",
    "zeros = torch.zeros(size=(4,5))\n",
    "print(zeros)\n",
    "print(zeros.ndim)\n",
    "print(zeros.shape)"
   ]
  },
  {
   "cell_type": "code",
   "execution_count": 44,
   "metadata": {},
   "outputs": [
    {
     "name": "stdout",
     "output_type": "stream",
     "text": [
      "tensor([[1., 1., 1., 1., 1., 1., 1.],\n",
      "        [1., 1., 1., 1., 1., 1., 1.],\n",
      "        [1., 1., 1., 1., 1., 1., 1.],\n",
      "        [1., 1., 1., 1., 1., 1., 1.],\n",
      "        [1., 1., 1., 1., 1., 1., 1.],\n",
      "        [1., 1., 1., 1., 1., 1., 1.],\n",
      "        [1., 1., 1., 1., 1., 1., 1.]])\n",
      "torch.Size([7, 7])\n",
      "torch.float32\n"
     ]
    }
   ],
   "source": [
    "# Create a tensor of all ones\n",
    "ones = torch.ones(size=(7, 7))\n",
    "print(ones)\n",
    "print(ones.shape)\n",
    "print(ones.dtype)"
   ]
  },
  {
   "cell_type": "code",
   "execution_count": 48,
   "metadata": {},
   "outputs": [
    {
     "name": "stdout",
     "output_type": "stream",
     "text": [
      "tensor([ 0.,  1.,  2.,  3.,  4.,  5.,  6.,  7.,  8.,  9., 10.])\n",
      "torch.Size([11])\n",
      "1\n"
     ]
    },
    {
     "name": "stderr",
     "output_type": "stream",
     "text": [
      "/tmp/ipykernel_686548/689746496.py:2: UserWarning: torch.range is deprecated and will be removed in a future release because its behavior is inconsistent with Python's range builtin. Instead, use torch.arange, which produces values in [start, end).\n",
      "  zero_to_ten = torch.range(start=0, end=10, step=1)\n"
     ]
    }
   ],
   "source": [
    "# Create a tensor with a torch.range() -> 0 to 10\n",
    "zero_to_ten = torch.range(start=0, end=10, step=1)\n",
    "print(zero_to_ten)\n",
    "print(zero_to_ten.shape)\n",
    "print(zero_to_ten.ndim)"
   ]
  },
  {
   "cell_type": "markdown",
   "metadata": {},
   "source": [
    "# A tensor of all zeros with the same shape as a previous tensor. >> torch.zeros_like(input=)"
   ]
  },
  {
   "cell_type": "code",
   "execution_count": 47,
   "metadata": {},
   "outputs": [
    {
     "name": "stdout",
     "output_type": "stream",
     "text": [
      "tensor([0., 0., 0., 0., 0., 0., 0., 0., 0., 0., 0.])\n",
      "torch.Size([11])\n",
      "1\n"
     ]
    }
   ],
   "source": [
    "# Previous tensor was 0 to 10 -> tensor([ 0.,  1.,  2.,  3.,  4.,  5.,  6.,  7.,  8.,  9., 10.])\n",
    "# Now i want a tensor same as previous with zeros -> for that we can use  (torch.zeros_like)\n",
    "\n",
    "ten_zeros = torch.zeros_like(input=zero_to_ten)\n",
    "print(ten_zeros)\n",
    "print(ten_zeros.shape)\n",
    "print(ten_zeros.ndim)"
   ]
  },
  {
   "cell_type": "markdown",
   "metadata": {},
   "source": [
    "# torch.ones_like(input=)"
   ]
  },
  {
   "cell_type": "code",
   "execution_count": 52,
   "metadata": {},
   "outputs": [
    {
     "name": "stdout",
     "output_type": "stream",
     "text": [
      "tensor([1., 1., 1., 1., 1., 1., 1., 1., 1., 1., 1.])\n",
      "torch.Size([11])\n",
      "1\n"
     ]
    }
   ],
   "source": [
    "ten_ones = torch.ones_like(input=zero_to_ten)\n",
    "print(ten_ones)\n",
    "print(ten_ones.shape)\n",
    "print(ten_ones.ndim)"
   ]
  },
  {
   "cell_type": "markdown",
   "metadata": {},
   "source": [
    "Some tensors with specific datatypes"
   ]
  },
  {
   "cell_type": "code",
   "execution_count": 55,
   "metadata": {},
   "outputs": [
    {
     "name": "stdout",
     "output_type": "stream",
     "text": [
      "tensor([3.2000, 4.0000, 5.5000])\n",
      "torch.float32\n",
      "torch.Size([3])\n",
      "1\n",
      "cpu\n"
     ]
    }
   ],
   "source": [
    "# Genarelly tensor default data type is float32\n",
    "# lets create a default datatype for tensor\n",
    "float_32_tensor = torch.tensor([3.2, 4.0, 5.5],\n",
    "                               dtype=None,  # defaults to None, which is torch.float32 or whatever datatype is passed\n",
    "                               device=None, # defaults to None, which uses the default tensor type\n",
    "                               requires_grad=False) # if True, operations performed on the tensor are recorded \n",
    "\n",
    "print(float_32_tensor)\n",
    "print(float_32_tensor.dtype)\n",
    "print(float_32_tensor.shape)\n",
    "print(float_32_tensor.ndim)\n",
    "print(float_32_tensor.device)\n",
    "\n"
   ]
  },
  {
   "cell_type": "markdown",
   "metadata": {},
   "source": [
    "# Some common issues in datatypes\n",
    "1. One of tensors is torch.float32 and the other is torch.float16 (here you can see datatypes doesn't match up and it will not work when we will start operation in between them) (PyTorch often likes tensors to be the same format).\n",
    "2. One of your tensors is on the CPU and the other is on the GPU (because of different device it won't work) (PyTorch likes calculations between tensors to be on the same device)."
   ]
  },
  {
   "cell_type": "code",
   "execution_count": 57,
   "metadata": {},
   "outputs": [
    {
     "name": "stdout",
     "output_type": "stream",
     "text": [
      "tensor([1.2002, 5.0000, 7.3008], dtype=torch.float16)\n",
      "torch.float16\n",
      "torch.Size([3])\n",
      "1\n"
     ]
    }
   ],
   "source": [
    "float_16_tensor = torch.tensor([1.2, 5.0, 7.3],\n",
    "                               dtype=torch.float16) # Defalut was float32 Now we change it to float16\n",
    "print(float_16_tensor)\n",
    "print(float_16_tensor.dtype)\n",
    "print(float_16_tensor.shape)\n",
    "print(float_16_tensor.ndim)\n"
   ]
  },
  {
   "cell_type": "markdown",
   "metadata": {},
   "source": [
    "shape - what shape is the tensor? (some operations require specific shape rules)\n",
    "\n",
    "dtype - what datatype are the elements within the tensor stored in?\n",
    "\n",
    "device - what device is the tensor stored on? (usually GPU or CPU)"
   ]
  },
  {
   "cell_type": "code",
   "execution_count": 58,
   "metadata": {},
   "outputs": [
    {
     "name": "stdout",
     "output_type": "stream",
     "text": [
      "tensor([[0.4950, 0.9281, 0.3938, 0.2424],\n",
      "        [0.5282, 0.4468, 0.8265, 0.2358],\n",
      "        [0.7566, 0.8252, 0.1031, 0.7846]])\n",
      "Shape of tensor: torch.Size([3, 4])\n",
      "Datatype of tensor: torch.float32\n",
      "Device tensor is stored on: cpu\n"
     ]
    }
   ],
   "source": [
    "# Create a tensor\n",
    "some_tensor = torch.rand(3, 4)\n",
    "\n",
    "# Find out details about it\n",
    "print(some_tensor)\n",
    "print(f\"Shape of tensor: {some_tensor.shape}\")\n",
    "print(f\"Datatype of tensor: {some_tensor.dtype}\")\n",
    "print(f\"Device tensor is stored on: {some_tensor.device}\") # will default to CPU"
   ]
  },
  {
   "cell_type": "markdown",
   "metadata": {},
   "source": [
    "# Manipulating tensors (tensor operations)\n"
   ]
  },
  {
   "cell_type": "markdown",
   "metadata": {},
   "source": [
    "## Some of Operation tensor needs to do\n",
    "1. Addition\n",
    "2. Substraction\n",
    "3. Multiplication (element-wise)\n",
    "4. Division\n",
    "5. Matrix multiplication"
   ]
  },
  {
   "cell_type": "markdown",
   "metadata": {},
   "source": [
    "## 1. Basic Addition operation"
   ]
  },
  {
   "cell_type": "code",
   "execution_count": null,
   "metadata": {},
   "outputs": [
    {
     "name": "stdout",
     "output_type": "stream",
     "text": [
      "tensor([1.2000, 2.0000, 3.3000])\n",
      "torch.float32\n"
     ]
    }
   ],
   "source": [
    "# 1. Basic Addition operation\n",
    "tensor1 = torch.tensor([1.2,2.0,3.3])\n",
    "print(tensor1)\n",
    "print(tensor1.dtype)"
   ]
  },
  {
   "cell_type": "code",
   "execution_count": 63,
   "metadata": {},
   "outputs": [
    {
     "name": "stdout",
     "output_type": "stream",
     "text": [
      "tensor([11.2000, 12.0000, 13.3000])\n"
     ]
    }
   ],
   "source": [
    "# Lets add 10 with tensor1\n",
    "tensor2 = tensor1 + 10\n",
    "print(tensor2)"
   ]
  },
  {
   "cell_type": "code",
   "execution_count": 65,
   "metadata": {},
   "outputs": [
    {
     "data": {
      "text/plain": [
       "tensor([11.2000, 12.0000, 13.3000])"
      ]
     },
     "execution_count": 65,
     "metadata": {},
     "output_type": "execute_result"
    }
   ],
   "source": [
    "tensor3 = torch.add(tensor1, 10)\n",
    "tensor3"
   ]
  },
  {
   "cell_type": "markdown",
   "metadata": {},
   "source": [
    "## 2. Substraction"
   ]
  },
  {
   "cell_type": "code",
   "execution_count": null,
   "metadata": {},
   "outputs": [
    {
     "name": "stdout",
     "output_type": "stream",
     "text": [
      "tensor([1.2000, 2.5000, 6.0000])\n",
      "torch.float32\n",
      "torch.Size([3])\n"
     ]
    }
   ],
   "source": [
    "\n",
    "tensor_1 = torch.tensor([1.2, 2.5, 6.0])\n",
    "print(tensor_1)\n",
    "print(tensor_1.dtype)\n",
    "print(tensor_1.shape)"
   ]
  },
  {
   "cell_type": "code",
   "execution_count": 68,
   "metadata": {},
   "outputs": [
    {
     "name": "stdout",
     "output_type": "stream",
     "text": [
      "tensor([0.2000, 1.5000, 5.0000])\n",
      "torch.float32\n",
      "torch.Size([3])\n"
     ]
    }
   ],
   "source": [
    "# Substrac -1 from tensor_1\n",
    "tensor_2 = tensor_1 - 1\n",
    "print(tensor_2)\n",
    "print(tensor_2.dtype)\n",
    "print(tensor_2.shape)"
   ]
  },
  {
   "cell_type": "code",
   "execution_count": 71,
   "metadata": {},
   "outputs": [
    {
     "name": "stdout",
     "output_type": "stream",
     "text": [
      "tensor([0.2000, 1.5000, 5.0000])\n",
      "torch.float32\n",
      "torch.Size([3])\n"
     ]
    }
   ],
   "source": [
    "# Use torch.sub()\n",
    "tensor_3 = torch.sub(tensor_1, 1)\n",
    "print(tensor_3)\n",
    "print(tensor_3.dtype)\n",
    "print(tensor_3.shape)"
   ]
  },
  {
   "cell_type": "markdown",
   "metadata": {},
   "source": [
    "## 3. Division "
   ]
  },
  {
   "cell_type": "code",
   "execution_count": null,
   "metadata": {},
   "outputs": [
    {
     "name": "stdout",
     "output_type": "stream",
     "text": [
      "tensor([1.3000, 5.1000, 8.2000])\n",
      "torch.float32\n",
      "torch.Size([3])\n"
     ]
    }
   ],
   "source": [
    "\n",
    "tensor_a = torch.tensor([1.3, 5.1, 8.2])\n",
    "print(tensor_a)\n",
    "print(tensor_a.dtype)\n",
    "print(tensor_a.shape)"
   ]
  },
  {
   "cell_type": "code",
   "execution_count": 75,
   "metadata": {},
   "outputs": [
    {
     "name": "stdout",
     "output_type": "stream",
     "text": [
      "tensor([0.6500, 2.5500, 4.1000])\n",
      "torch.float32\n",
      "torch.Size([3])\n"
     ]
    }
   ],
   "source": [
    "# divide 2 from tensor_a\n",
    "tensor_b = tensor_a / 2\n",
    "print(tensor_b)\n",
    "print(tensor_b.dtype)\n",
    "print(tensor_b.shape)"
   ]
  },
  {
   "cell_type": "code",
   "execution_count": 77,
   "metadata": {},
   "outputs": [
    {
     "name": "stdout",
     "output_type": "stream",
     "text": [
      "tensor([0.6500, 2.5500, 4.1000])\n",
      "torch.float32\n",
      "torch.Size([3])\n"
     ]
    }
   ],
   "source": [
    "# Use torch.div\n",
    "tensor_c = torch.div(tensor_a, 2)\n",
    "print(tensor_c)\n",
    "print(tensor_c.dtype)\n",
    "print(tensor_c.shape)"
   ]
  },
  {
   "cell_type": "markdown",
   "metadata": {},
   "source": [
    "## 4. Multiflication"
   ]
  },
  {
   "cell_type": "code",
   "execution_count": null,
   "metadata": {},
   "outputs": [
    {
     "name": "stdout",
     "output_type": "stream",
     "text": [
      "tensor([1.2000, 5.4000, 2.3000])\n",
      "torch.float32\n",
      "torch.Size([3])\n"
     ]
    }
   ],
   "source": [
    "\n",
    "tensor_m1 = torch.tensor([1.2, 5.4, 2.3])\n",
    "print(tensor_m1)\n",
    "print(tensor_m1.dtype)\n",
    "print(tensor_m1.shape)"
   ]
  },
  {
   "cell_type": "code",
   "execution_count": 82,
   "metadata": {},
   "outputs": [
    {
     "name": "stdout",
     "output_type": "stream",
     "text": [
      "tensor([12.2400, 55.0800, 23.4600])\n",
      "torch.float32\n",
      "torch.Size([3])\n"
     ]
    }
   ],
   "source": [
    "# Normal Multiplication\n",
    "tensor_m2 = tensor_m1 * 10.2\n",
    "print(tensor_m2)\n",
    "print(tensor_m2.dtype)\n",
    "print(tensor_m2.shape)"
   ]
  },
  {
   "cell_type": "code",
   "execution_count": 83,
   "metadata": {},
   "outputs": [
    {
     "name": "stdout",
     "output_type": "stream",
     "text": [
      "tensor([12.2400, 55.0800, 23.4600])\n",
      "torch.float32\n",
      "torch.Size([3])\n"
     ]
    }
   ],
   "source": [
    "# torch.mul / torch.multiply function\n",
    "tensor_m3 = torch.mul(tensor_m1, 10.2)\n",
    "print(tensor_m3)\n",
    "print(tensor_m3.dtype)\n",
    "print(tensor_m3.shape)"
   ]
  },
  {
   "cell_type": "markdown",
   "metadata": {},
   "source": [
    "## Element-wise multiplication"
   ]
  },
  {
   "cell_type": "code",
   "execution_count": 84,
   "metadata": {},
   "outputs": [
    {
     "name": "stdout",
     "output_type": "stream",
     "text": [
      "tensor([2.1000, 5.1000, 3.6000])\n",
      "torch.float32\n",
      "torch.Size([3])\n"
     ]
    }
   ],
   "source": [
    "tensor = torch.tensor([2.1, 5.1, 3.6])\n",
    "print(tensor)\n",
    "print(tensor.dtype)\n",
    "print(tensor.shape)"
   ]
  },
  {
   "cell_type": "code",
   "execution_count": 85,
   "metadata": {},
   "outputs": [
    {
     "name": "stdout",
     "output_type": "stream",
     "text": [
      " tensor([2.1000, 5.1000, 3.6000])  * tensor([2.1000, 5.1000, 3.6000])\n",
      " After multiplication : tensor([ 4.4100, 26.0100, 12.9600])\n"
     ]
    }
   ],
   "source": [
    "# Element-wise multiplication ( when we multiply two tensors, each element multiplies its equivalentm index 0-> 0, 1->1, 2->2)\n",
    "\n",
    "tensor_element_wise = tensor * tensor\n",
    "print(f\" {tensor}  * {tensor}\")\n",
    "print(f\" After multiplication : {tensor_element_wise}\")"
   ]
  },
  {
   "cell_type": "markdown",
   "metadata": {},
   "source": [
    "# Matrix Multiplication\n",
    "## Matrix multiplication using torch.matmul()"
   ]
  },
  {
   "cell_type": "markdown",
   "metadata": {},
   "source": [
    "## Two rules should be rememberd for matrix multiplicatin\n",
    "### 1. The inner dimensions must match\n",
    "\n",
    "[ (3, 2) @ (3, 2) won't work\n",
    "\n",
    "(2, 3) @ (3, 2) will work\n",
    "\n",
    "(3, 2) @ (2, 3) will work ]\n",
    "\n",
    "### 2. The resulting matrix has the shape of the outer dimensions:\n",
    "\n",
    "[ (2, 3) @ (3, 2) -> (2, 2)\n",
    "\n",
    "(3, 2) @ (2, 3) -> (3, 3)] \n"
   ]
  },
  {
   "cell_type": "code",
   "execution_count": 86,
   "metadata": {},
   "outputs": [
    {
     "name": "stdout",
     "output_type": "stream",
     "text": [
      "tensor([1, 2, 3])\n",
      "torch.Size([3])\n",
      "1\n"
     ]
    }
   ],
   "source": [
    "# lets create tensor\n",
    "import torch\n",
    "tensor = torch.tensor([1,2,3])\n",
    "print(tensor)\n",
    "print(tensor.shape)\n",
    "print(tensor.ndim)\n"
   ]
  },
  {
   "cell_type": "code",
   "execution_count": 87,
   "metadata": {},
   "outputs": [
    {
     "name": "stdout",
     "output_type": "stream",
     "text": [
      "tensor([1, 4, 9])\n",
      "torch.Size([3])\n",
      "1\n"
     ]
    }
   ],
   "source": [
    "# First we will do element-wise multiplication ( tensor * tensor)\n",
    "element_wise_multiply_tensor = torch.multiply(tensor, tensor)\n",
    "# or = tensor * tensor\n",
    "print(element_wise_multiply_tensor)\n",
    "print(element_wise_multiply_tensor.shape)\n",
    "print(element_wise_multiply_tensor.ndim)"
   ]
  },
  {
   "cell_type": "markdown",
   "metadata": {},
   "source": [
    "## Matrix Multiplication"
   ]
  },
  {
   "cell_type": "code",
   "execution_count": 90,
   "metadata": {},
   "outputs": [
    {
     "name": "stdout",
     "output_type": "stream",
     "text": [
      "tensor(14)\n",
      "torch.Size([])\n",
      "0\n"
     ]
    }
   ],
   "source": [
    "# Using torch.matmul() \n",
    "matrix_multiply_tensor = torch.matmul(tensor, tensor)\n",
    "print(matrix_multiply_tensor)\n",
    "print(matrix_multiply_tensor.shape)\n",
    "print(matrix_multiply_tensor.ndim)"
   ]
  },
  {
   "cell_type": "code",
   "execution_count": 92,
   "metadata": {},
   "outputs": [
    {
     "name": "stdout",
     "output_type": "stream",
     "text": [
      "tensor(14)\n",
      "torch.Size([])\n",
      "0\n"
     ]
    }
   ],
   "source": [
    "# Or we can use mm -> short form of matmul()\n",
    "matrix_multiply_tensor_1 = torch.matmul(tensor, tensor)\n",
    "print(matrix_multiply_tensor_1)\n",
    "print(matrix_multiply_tensor_1.shape)\n",
    "print(matrix_multiply_tensor_1.ndim)"
   ]
  },
  {
   "cell_type": "markdown",
   "metadata": {},
   "source": [
    "## '@' symbol for matrix multiplication "
   ]
  },
  {
   "cell_type": "code",
   "execution_count": 94,
   "metadata": {},
   "outputs": [
    {
     "data": {
      "text/plain": [
       "tensor(14)"
      ]
     },
     "execution_count": 94,
     "metadata": {},
     "output_type": "execute_result"
    }
   ],
   "source": [
    "# Can also use the \"@\" symbol for matrix multiplication, though not recommended\n",
    "tensor @ tensor"
   ]
  },
  {
   "cell_type": "markdown",
   "metadata": {},
   "source": [
    "### We are trying to do matrix multiplication by hand not through the built in function( but always recommended to use build in function)"
   ]
  },
  {
   "cell_type": "code",
   "execution_count": 100,
   "metadata": {},
   "outputs": [
    {
     "name": "stdout",
     "output_type": "stream",
     "text": [
      "CPU times: user 1.08 ms, sys: 60 μs, total: 1.14 ms\n",
      "Wall time: 972 μs\n"
     ]
    },
    {
     "data": {
      "text/plain": [
       "tensor(14)"
      ]
     },
     "execution_count": 100,
     "metadata": {},
     "output_type": "execute_result"
    }
   ],
   "source": [
    "%%time\n",
    "value = 0\n",
    "\n",
    "for i in range(len(tensor)):\n",
    "    value = value + tensor[i] * tensor[i]\n",
    "value"
   ]
  },
  {
   "cell_type": "markdown",
   "metadata": {},
   "source": [
    "### Now we will use build in function torch.matmul(), and then we can compare the time"
   ]
  },
  {
   "cell_type": "code",
   "execution_count": 107,
   "metadata": {},
   "outputs": [
    {
     "name": "stdout",
     "output_type": "stream",
     "text": [
      "CPU times: user 36 μs, sys: 2 μs, total: 38 μs\n",
      "Wall time: 39.8 μs\n"
     ]
    },
    {
     "data": {
      "text/plain": [
       "tensor(14)"
      ]
     },
     "execution_count": 107,
     "metadata": {},
     "output_type": "execute_result"
    }
   ],
   "source": [
    "\n",
    "%%time\n",
    "torch.matmul(tensor, tensor)"
   ]
  },
  {
   "cell_type": "markdown",
   "metadata": {},
   "source": [
    "### As we discussed before, One of the most common errors in deep learning is  (shape errors) ! If our matrix is shape mismatches then it won't work"
   ]
  },
  {
   "cell_type": "code",
   "execution_count": 112,
   "metadata": {},
   "outputs": [
    {
     "name": "stdout",
     "output_type": "stream",
     "text": [
      "tensor([[1., 2.],\n",
      "        [2., 3.],\n",
      "        [5., 3.]])\n",
      "torch.Size([3, 2])\n",
      "2\n",
      "--------------------\n",
      "tensor([[5., 6.],\n",
      "        [4., 5.],\n",
      "        [2., 7.]])\n",
      "torch.Size([3, 2])\n",
      "2\n"
     ]
    }
   ],
   "source": [
    "# Take two tensor \n",
    "tensor_A = torch.tensor([[1,2],\n",
    "                         [2,3],\n",
    "                         [5,3]],\n",
    "                         dtype=torch.float32)\n",
    "\n",
    "tensor_B = torch.tensor([[5,6],\n",
    "                         [4,5],\n",
    "                         [2,7]],\n",
    "                         dtype=torch.float32 )\n",
    "\n",
    "print(tensor_A)\n",
    "print(tensor_A.shape)\n",
    "print(tensor_A.ndim)\n",
    "\n",
    "print(\"--------------------\")\n",
    "\n",
    "print(tensor_B)\n",
    "print(tensor_B.shape)\n",
    "print(tensor_B.ndim)"
   ]
  },
  {
   "cell_type": "markdown",
   "metadata": {},
   "source": [
    "#### Read it carefully"
   ]
  },
  {
   "cell_type": "code",
   "execution_count": 114,
   "metadata": {},
   "outputs": [
    {
     "data": {
      "text/plain": [
       "\"\\n---------------------------------------------------------------------------\\nRuntimeError                              Traceback (most recent call last)\\nCell In[113], line 3\\n      1 # tensor_A shape is -> torch.Size( 3, 2) and tensor_B shape is -> torch.Size(3, 2) ----- if you look at the both shape you will see inner dimensions of tensor is not same, it is 2 @ 3, because it is not matching so it won't work\\n----> 3 torch.matmul(tensor_A, tensor_B)\\n\\nRuntimeError: mat1 and mat2 shapes cannot be multiplied (3x2 and 3x2)\\n\""
      ]
     },
     "execution_count": 114,
     "metadata": {},
     "output_type": "execute_result"
    }
   ],
   "source": [
    "# tensor_A shape is -> torch.Size( 3, 2) and tensor_B shape is -> torch.Size(3, 2) ----- if you look at the both shape you will see inner dimensions of tensor is not same, it is 2 @ 3, because it is not matching so it won't work\n",
    "\n",
    "#torch.matmul(tensor_A, tensor_B)\n",
    "\n",
    "'''\n",
    "---------------------------------------------------------------------------\n",
    "RuntimeError                              Traceback (most recent call last)\n",
    "Cell In[113], line 3\n",
    "      1 # tensor_A shape is -> torch.Size( 3, 2) and tensor_B shape is -> torch.Size(3, 2) ----- if you look at the both shape you will see inner dimensions of tensor is not same, it is 2 @ 3, because it is not matching so it won't work\n",
    "----> 3 torch.matmul(tensor_A, tensor_B)\n",
    "\n",
    "RuntimeError: mat1 and mat2 shapes cannot be multiplied (3x2 and 3x2)\n",
    "'''"
   ]
  },
  {
   "cell_type": "markdown",
   "metadata": {},
   "source": [
    "### Matrix transpose tensor.T "
   ]
  },
  {
   "cell_type": "code",
   "execution_count": 117,
   "metadata": {},
   "outputs": [
    {
     "name": "stdout",
     "output_type": "stream",
     "text": [
      " tensor_B shape: torch.Size([3, 2])\n",
      " After transpose tensor_B_T Current shape: torch.Size([2, 3])\n"
     ]
    }
   ],
   "source": [
    "# We got two tensor, tensor_A and tensor_B\n",
    "# Because of the mismatch of the tensor we can't opetate any matrix multiplication in these, if you want to do that we need to change dimension of one tensor, for doing that here comes Tranpose, which help change the dimension\n",
    "\n",
    "tensor_B_T = tensor_B.T\n",
    "print(f\" tensor_B shape: {tensor_B.shape}\")\n",
    "print(f\" After transpose tensor_B_T Current shape: {tensor_B_T.shape}\")"
   ]
  },
  {
   "cell_type": "code",
   "execution_count": 118,
   "metadata": {},
   "outputs": [
    {
     "name": "stdout",
     "output_type": "stream",
     "text": [
      "tensor([[17., 14., 16.],\n",
      "        [28., 23., 25.],\n",
      "        [43., 35., 31.]])\n",
      "torch.Size([3, 3])\n",
      "2\n"
     ]
    }
   ],
   "source": [
    "# Now we got tensor_A and transpose tensor_B -> tensor_B_T\n",
    "# lets do matrix multiplication\n",
    "matris_multiply = torch.matmul(tensor_A, tensor_B_T)\n",
    "print(matris_multiply)\n",
    "print(matris_multiply.shape)\n",
    "print(matris_multiply.ndim)"
   ]
  },
  {
   "cell_type": "code",
   "execution_count": 130,
   "metadata": {},
   "outputs": [
    {
     "data": {
      "text/plain": [
       "'\\nmatris_multiply = torch.matmul(tensor_B_T, tensor_A)\\nprint(matris_multiply)\\nprint(matris_multiply.shape)\\nprint(matris_multiply.ndim)\\n'"
      ]
     },
     "execution_count": 130,
     "metadata": {},
     "output_type": "execute_result"
    }
   ],
   "source": [
    "'''\n",
    "matris_multiply = torch.matmul(tensor_B_T, tensor_A)\n",
    "print(matris_multiply)\n",
    "print(matris_multiply.shape)\n",
    "print(matris_multiply.ndim)\n",
    "'''"
   ]
  },
  {
   "cell_type": "markdown",
   "metadata": {},
   "source": [
    "## Neural networks are full of matrix multiplications and dot products.\n",
    "## Matrix multiplicatin\n",
    "### Matrix multiplication involves multiplying two matrics. The number of coloums in the first matrix must match the number of rows in the second matrix\n",
    "### The reslut of matrix multiplication is a new matrix"
   ]
  },
  {
   "cell_type": "markdown",
   "metadata": {},
   "source": [
    "## Dot product\n",
    "### This is a special case of matrix multiplication. It applies to two vectors(1D Arrays),  not matrices, The dot product sums the products of crossresponding elements. \n",
    "### The result of dot product is a scaler (or a single number)"
   ]
  },
  {
   "cell_type": "markdown",
   "metadata": {},
   "source": [
    "### Dot product measures the similarity of two vectors (e.g., in machine learning).\n",
    "### Matrix multiplication transforms or combines data (e.g., in linear transformations or deep learning)."
   ]
  },
  {
   "cell_type": "code",
   "execution_count": 125,
   "metadata": {},
   "outputs": [
    {
     "name": "stdout",
     "output_type": "stream",
     "text": [
      "tensor(32)\n"
     ]
    }
   ],
   "source": [
    "# build in function torch.dot() / also can use torch.matmul()\n",
    "import torch\n",
    "\n",
    "# Vectors\n",
    "u = torch.tensor([1, 2, 3])\n",
    "v = torch.tensor([4, 5, 6])\n",
    "\n",
    "# Dot product\n",
    "result = torch.dot(u, v)\n",
    "print(result)  # Output: 32"
   ]
  },
  {
   "attachments": {
    "image.png": {
     "image/png": "[encoded data removed]"
    }
   },
   "cell_type": "markdown",
   "metadata": {},
   "source": [
    "![image.png](attachment:image.png)"
   ]
  },
  {
   "cell_type": "code",
   "execution_count": 122,
   "metadata": {},
   "outputs": [
    {
     "name": "stdout",
     "output_type": "stream",
     "text": [
      "tensor([[19, 22],\n",
      "        [43, 50]])\n"
     ]
    }
   ],
   "source": [
    "# For matrix multiplication, use torch.mm() or @ operator.\n",
    "import torch\n",
    "\n",
    "# Matrices\n",
    "A = torch.tensor([[1, 2], [3, 4]])\n",
    "B = torch.tensor([[5, 6], [7, 8]])\n",
    "\n",
    "# Matrix multiplication\n",
    "result = torch.mm(A, B)  # Alternatively: result = A @ B\n",
    "print(result)\n",
    "# Output:\n",
    "# tensor([[19, 22],\n",
    "#         [43, 50]])\n"
   ]
  },
  {
   "cell_type": "code",
   "execution_count": 126,
   "metadata": {},
   "outputs": [
    {
     "name": "stdout",
     "output_type": "stream",
     "text": [
      "tensor(32)\n",
      "tensor([[19, 22],\n",
      "        [43, 50]])\n"
     ]
    }
   ],
   "source": [
    "import torch\n",
    "\n",
    "# For vectors (dot product)\n",
    "u = torch.tensor([1, 2, 3])\n",
    "v = torch.tensor([4, 5, 6])\n",
    "result = torch.matmul(u, v)  # Dot product\n",
    "print(result)  # Output: 32\n",
    "\n",
    "# For matrices (matrix multiplication)\n",
    "A = torch.tensor([[1, 2], [3, 4]])\n",
    "B = torch.tensor([[5, 6], [7, 8]])\n",
    "result = torch.matmul(A, B)  # Matrix multiplication\n",
    "print(result)\n",
    "# Output:\n",
    "# tensor([[19, 22],\n",
    "#         [43, 50]])\n"
   ]
  },
  {
   "cell_type": "markdown",
   "metadata": {},
   "source": [
    "### torch.nn.Linear() -> \n"
   ]
  },
  {
   "cell_type": "code",
   "execution_count": 137,
   "metadata": {},
   "outputs": [
    {
     "name": "stdout",
     "output_type": "stream",
     "text": [
      "tensor([[1., 2., 3.],\n",
      "        [2., 5., 6.],\n",
      "        [2., 7., 3.]])\n",
      "torch.Size([3, 3])\n",
      "The dimension of the tensor is: 2\n"
     ]
    }
   ],
   "source": [
    "# Create a tensor \n",
    "tensor_for_work = torch.tensor([[1, 2, 3],\n",
    "                                [2,5,6],\n",
    "                                [2,7,3]], dtype=torch.float32)\n",
    "\n",
    "print(tensor_for_work)\n",
    "print(tensor_for_work.shape)\n",
    "print(f\"The dimension of the tensor is: {tensor_for_work.ndim}\")"
   ]
  },
  {
   "cell_type": "code",
   "execution_count": 147,
   "metadata": {},
   "outputs": [
    {
     "name": "stdout",
     "output_type": "stream",
     "text": [
      "Input shape: torch.Size([3, 3])\n",
      "tensor([[0.7245, 0.7740, 1.6579, 0.8366, 1.1836, 1.4476],\n",
      "        [2.1978, 1.2744, 3.9209, 2.2427, 2.6799, 2.9573],\n",
      "        [3.5619, 0.6719, 3.0722, 2.9222, 2.0011, 3.5915]],\n",
      "       grad_fn=<AddmmBackward0>)\n",
      "Output shape is : torch.Size([3, 6])\n"
     ]
    }
   ],
   "source": [
    "# Lets work on linear layer with tensor_for_work\n",
    "torch.manual_seed(42) # when we need to work on randomness environment then we need to use it so that we can get reproducibilty\n",
    "# This uses matrix multiplication\n",
    "linear = torch.nn.Linear(in_features=3, # in_features= matches inner dimensor of input\n",
    "                         out_features=6 # out_features = describs outer value\n",
    "                         )\n",
    "\n",
    "input = tensor_for_work\n",
    "output = linear(input)\n",
    "\n",
    "print(f\"Input shape: {input.shape}\")\n",
    "print(output)\n",
    "print(f\"Output shape is : {output.shape}\")\n"
   ]
  },
  {
   "cell_type": "markdown",
   "metadata": {},
   "source": [
    "## Finding the min, max, mean, sum, etc (aggregation)"
   ]
  },
  {
   "cell_type": "code",
   "execution_count": 149,
   "metadata": {},
   "outputs": [
    {
     "name": "stdout",
     "output_type": "stream",
     "text": [
      "tensor([ 0, 10, 20, 30, 40, 50, 60, 70, 80, 90])\n",
      "torch.Size([10])\n",
      "1\n"
     ]
    }
   ],
   "source": [
    "# Create a tensor with torch.arnage() function\n",
    "import torch\n",
    "x = torch.arange(0, 100, 10)\n",
    "print(x)\n",
    "print(x.shape)\n",
    "print(x.ndim)"
   ]
  },
  {
   "cell_type": "markdown",
   "metadata": {},
   "source": [
    "#### Lets perform some aggregation\n"
   ]
  },
  {
   "cell_type": "code",
   "execution_count": null,
   "metadata": {},
   "outputs": [
    {
     "name": "stdout",
     "output_type": "stream",
     "text": [
      "Maximum number of the tensor is: 90\n",
      "Minimum number of the tensor is: 0\n",
      "Mean of tensor: 45.0\n",
      "The Sum of the tensor is: 450\n"
     ]
    }
   ],
   "source": [
    "print(f\"Maximum number of the tensor is: {x.max()}\")\n",
    "print(f\"Minimum number of the tensor is: {x.min()}\")\n",
    "print(f\"Mean of tensor: {x.type(torch.float32).mean()}\") # When we find mean from a tensor certainly we will get float result from the calculation. Our tensor hold integer values so we need to convert it into flaot32\n",
    "print(f\"The Sum of the tensor is: {x.sum()}\")"
   ]
  },
  {
   "cell_type": "code",
   "execution_count": 153,
   "metadata": {},
   "outputs": [
    {
     "data": {
      "text/plain": [
       "(tensor(90), tensor(0), tensor(45.), tensor(450))"
      ]
     },
     "execution_count": 153,
     "metadata": {},
     "output_type": "execute_result"
    }
   ],
   "source": [
    "# We can do it with torch\n",
    "torch.max(x), torch.min(x), torch.mean(x.type(torch.float32)), torch.sum(x)"
   ]
  },
  {
   "cell_type": "markdown",
   "metadata": {},
   "source": [
    "## Positional min/max"
   ]
  },
  {
   "cell_type": "code",
   "execution_count": 154,
   "metadata": {},
   "outputs": [
    {
     "name": "stdout",
     "output_type": "stream",
     "text": [
      "Tensor: tensor([1, 3, 5, 7, 9])\n",
      "Index where max value occurs: 4\n",
      "Index where min value occurs: 0\n"
     ]
    }
   ],
   "source": [
    "# Create a tensor\n",
    "tensor = torch.arange(1, 10, 2)\n",
    "print(f\"Tensor: {tensor}\")\n",
    "\n",
    "# Returns index of max and min values\n",
    "print(f\"Index where max value occurs: {tensor.argmax()}\")\n",
    "print(f\"Index where min value occurs: {tensor.argmin()}\")"
   ]
  },
  {
   "cell_type": "markdown",
   "metadata": {},
   "source": [
    "# Change tensor datatype "
   ]
  },
  {
   "cell_type": "markdown",
   "metadata": {},
   "source": [
    "### A common issue with deep learning is having tensors in different datatypes, such as if one tensor is in (torch.float64) format and another is in (torch.float32) format, it won't work at all. -> as a solution we can make both data type is same, then it will work"
   ]
  },
  {
   "cell_type": "code",
   "execution_count": 155,
   "metadata": {},
   "outputs": [
    {
     "name": "stdout",
     "output_type": "stream",
     "text": [
      "tensor([10., 20., 30., 40., 50., 60., 70., 80., 90.])\n",
      "torch.float32\n"
     ]
    }
   ],
   "source": [
    "# Create a tenosor and check its datatype\n",
    "tensor = torch.arange(10., 100., 10.)\n",
    "print(tensor)\n",
    "print(tensor.dtype)"
   ]
  },
  {
   "cell_type": "code",
   "execution_count": 159,
   "metadata": {},
   "outputs": [
    {
     "data": {
      "text/plain": [
       "(torch.float16,\n",
       " tensor([10., 20., 30., 40., 50., 60., 70., 80., 90.], dtype=torch.float16))"
      ]
     },
     "execution_count": 159,
     "metadata": {},
     "output_type": "execute_result"
    }
   ],
   "source": [
    "# Change it to float16\n",
    "tensor_float16 = tensor.type(torch.float16)\n",
    "tensor_float16.dtype, tensor_float16"
   ]
  },
  {
   "cell_type": "code",
   "execution_count": 158,
   "metadata": {},
   "outputs": [
    {
     "data": {
      "text/plain": [
       "(torch.int8, tensor([10, 20, 30, 40, 50, 60, 70, 80, 90], dtype=torch.int8))"
      ]
     },
     "execution_count": 158,
     "metadata": {},
     "output_type": "execute_result"
    }
   ],
   "source": [
    "# Change it ot float8\n",
    "tensor_int8 = tensor.type(torch.int8)\n",
    "tensor_int8.dtype, tensor_int8\n"
   ]
  },
  {
   "cell_type": "markdown",
   "metadata": {},
   "source": [
    "## Reshaping, stacking, squeezing and unsqueezing"
   ]
  },
  {
   "attachments": {
    "image.png": {
     "image/png": "[encoded data removed]"
    }
   },
   "cell_type": "markdown",
   "metadata": {},
   "source": [
    "![image.png](attachment:image.png)"
   ]
  },
  {
   "cell_type": "code",
   "execution_count": 160,
   "metadata": {},
   "outputs": [
    {
     "name": "stdout",
     "output_type": "stream",
     "text": [
      "tensor([[ 1.1103, -1.6898, -0.9890,  0.9580],\n",
      "        [ 1.3221,  0.8172, -0.7658, -0.7506],\n",
      "        [ 1.3525,  0.6863, -0.3278,  0.7950]])\n",
      "torch.float32\n",
      "2\n"
     ]
    }
   ],
   "source": [
    "# Create a tensor\n",
    "tensor_original = torch.randn(3,4)\n",
    "print(tensor_original)\n",
    "print(tensor_original.dtype)\n",
    "print(tensor_original.ndim)"
   ]
  },
  {
   "cell_type": "markdown",
   "metadata": {},
   "source": [
    "### tensor_name.reshape()"
   ]
  },
  {
   "cell_type": "code",
   "execution_count": 165,
   "metadata": {},
   "outputs": [
    {
     "name": "stdout",
     "output_type": "stream",
     "text": [
      "tensor([[ 1.1103, -1.6898, -0.9890],\n",
      "        [ 0.9580,  1.3221,  0.8172],\n",
      "        [-0.7658, -0.7506,  1.3525],\n",
      "        [ 0.6863, -0.3278,  0.7950]])\n",
      "torch.Size([4, 3])\n"
     ]
    }
   ],
   "source": [
    "# tensor original shapes was (3,4) now we want to change -> (4,3)\n",
    "tensor_original_reshape = tensor_original.reshape(4,3)\n",
    "print(tensor_original_reshape)\n",
    "print(tensor_original_reshape.shape)"
   ]
  },
  {
   "cell_type": "markdown",
   "metadata": {},
   "source": [
    "### torch.view()"
   ]
  },
  {
   "cell_type": "code",
   "execution_count": 166,
   "metadata": {},
   "outputs": [
    {
     "name": "stdout",
     "output_type": "stream",
     "text": [
      "tensor([[ 1.1103, -1.6898, -0.9890,  0.9580],\n",
      "        [ 1.3221,  0.8172, -0.7658, -0.7506],\n",
      "        [ 1.3525,  0.6863, -0.3278,  0.7950]])\n",
      "torch.Size([3, 4])\n"
     ]
    }
   ],
   "source": [
    "# torch.view()\n",
    "tensor_original_view = tensor_original.view(3,4)\n",
    "print(tensor_original_view)\n",
    "print(tensor_original_view.shape)\n"
   ]
  },
  {
   "cell_type": "code",
   "execution_count": 173,
   "metadata": {},
   "outputs": [
    {
     "data": {
      "text/plain": [
       "tensor([ 1,  3,  5,  7,  9, 11, 13, 15])"
      ]
     },
     "execution_count": 173,
     "metadata": {},
     "output_type": "execute_result"
    }
   ],
   "source": [
    "tensor_random = torch.arange(1,16,2)\n",
    "tensor_random"
   ]
  },
  {
   "cell_type": "markdown",
   "metadata": {},
   "source": [
    "## If you just want to reshape tensors, use torch.reshape. If you're also concerned about memory usage and want to ensure that the two tensors share the same data, use torch.view."
   ]
  },
  {
   "cell_type": "code",
   "execution_count": 174,
   "metadata": {},
   "outputs": [
    {
     "data": {
      "text/plain": [
       "tensor([[ 1,  3],\n",
       "        [ 5,  7],\n",
       "        [ 9, 11],\n",
       "        [13, 15]])"
      ]
     },
     "execution_count": 174,
     "metadata": {},
     "output_type": "execute_result"
    }
   ],
   "source": [
    "tensor_random_view = tensor_random.view(4, 2)\n",
    "tensor_random_view"
   ]
  },
  {
   "cell_type": "markdown",
   "metadata": {},
   "source": [
    "## torch.stack()"
   ]
  },
  {
   "cell_type": "code",
   "execution_count": 181,
   "metadata": {},
   "outputs": [
    {
     "data": {
      "text/plain": [
       "(tensor([[[ 1.1103, -1.6898, -0.9890,  0.9580],\n",
       "          [ 1.3221,  0.8172, -0.7658, -0.7506],\n",
       "          [ 1.3525,  0.6863, -0.3278,  0.7950]],\n",
       " \n",
       "         [[ 1.1103, -1.6898, -0.9890,  0.9580],\n",
       "          [ 1.3221,  0.8172, -0.7658, -0.7506],\n",
       "          [ 1.3525,  0.6863, -0.3278,  0.7950]],\n",
       " \n",
       "         [[ 1.1103, -1.6898, -0.9890,  0.9580],\n",
       "          [ 1.3221,  0.8172, -0.7658, -0.7506],\n",
       "          [ 1.3525,  0.6863, -0.3278,  0.7950]]]),\n",
       " torch.Size([3, 3, 4]))"
      ]
     },
     "execution_count": 181,
     "metadata": {},
     "output_type": "execute_result"
    }
   ],
   "source": [
    "# torch.stack()\n",
    "tensor_original_stack = torch.stack([tensor_original, tensor_original, tensor_original])\n",
    "tensor_original_stack, tensor_original_stack.shape"
   ]
  },
  {
   "cell_type": "markdown",
   "metadata": {},
   "source": [
    "## torch.squeeze() -> remove single dimension from the tensor"
   ]
  },
  {
   "cell_type": "code",
   "execution_count": 185,
   "metadata": {},
   "outputs": [
    {
     "name": "stdout",
     "output_type": "stream",
     "text": [
      "tensor([[[-0.6890, -1.1267, -0.2858],\n",
      "         [-1.0935,  1.1351,  0.7592],\n",
      "         [-3.5945,  0.0192,  0.1052],\n",
      "         [ 0.9603, -0.5672, -0.5706]]])\n",
      "3\n",
      "torch.Size([1, 4, 3])\n"
     ]
    }
   ],
   "source": [
    "# Create a tensor where there will have a single dimension\n",
    "tensor1 = torch.randn(1, 4, 3)\n",
    "print(tensor1)\n",
    "print(tensor1.ndim)\n",
    "print(tensor1.shape)"
   ]
  },
  {
   "cell_type": "code",
   "execution_count": 192,
   "metadata": {},
   "outputs": [
    {
     "name": "stdout",
     "output_type": "stream",
     "text": [
      "this is first way: tensor([[-0.6890, -1.1267, -0.2858],\n",
      "        [-1.0935,  1.1351,  0.7592],\n",
      "        [-3.5945,  0.0192,  0.1052],\n",
      "        [ 0.9603, -0.5672, -0.5706]])\n",
      "torch.Size([4, 3])\n",
      "tensor([[-0.6890, -1.1267, -0.2858],\n",
      "        [-1.0935,  1.1351,  0.7592],\n",
      "        [-3.5945,  0.0192,  0.1052],\n",
      "        [ 0.9603, -0.5672, -0.5706]])\n",
      "torch.Size([4, 3])\n"
     ]
    }
   ],
   "source": [
    "# Now I would like to remove single dimention from tensor1\n",
    "tensor1_squeeze = tensor1.squeeze()\n",
    "print(f\"this is first way: {tensor1_squeeze}\")\n",
    "print(tensor1_squeeze.shape)\n",
    "# or we can do it like this\n",
    "tensor1_squeeze2 = torch.squeeze(tensor1)\n",
    "print(tensor1_squeeze2)\n",
    "print(tensor1_squeeze2.shape)"
   ]
  },
  {
   "cell_type": "markdown",
   "metadata": {},
   "source": [
    "## torch.unsqueeze() -> add an extra dimension to the tensor. if you want you can add it to be any specific index number"
   ]
  },
  {
   "cell_type": "code",
   "execution_count": 193,
   "metadata": {},
   "outputs": [
    {
     "name": "stdout",
     "output_type": "stream",
     "text": [
      "tensor([[ 1.0311, -0.7048,  1.0131, -0.3308],\n",
      "        [ 0.5177,  0.3878, -0.5797, -0.1691],\n",
      "        [-0.5733,  0.5069, -0.4752, -0.4920],\n",
      "        [ 0.2704, -0.5628,  0.6793,  0.4405]])\n",
      "torch.Size([4, 4])\n"
     ]
    }
   ],
   "source": [
    "# Create a radom tensor shape (4,4)\n",
    "random_tensor = torch.randn(4,4)\n",
    "print(random_tensor)\n",
    "print(random_tensor.shape)"
   ]
  },
  {
   "cell_type": "code",
   "execution_count": 196,
   "metadata": {},
   "outputs": [
    {
     "name": "stdout",
     "output_type": "stream",
     "text": [
      "tensor([[[ 1.0311, -0.7048,  1.0131, -0.3308],\n",
      "         [ 0.5177,  0.3878, -0.5797, -0.1691],\n",
      "         [-0.5733,  0.5069, -0.4752, -0.4920],\n",
      "         [ 0.2704, -0.5628,  0.6793,  0.4405]]])\n",
      "torch.Size([1, 4, 4])\n"
     ]
    }
   ],
   "source": [
    "# Add an extra dimension on it\n",
    "random_tensor_unsqueeze = torch.unsqueeze(random_tensor, dim=0) # Here need to mention specific position index otherwise it won't work\n",
    "print(random_tensor_unsqueeze)\n",
    "print(random_tensor_unsqueeze.shape)"
   ]
  },
  {
   "cell_type": "code",
   "execution_count": 200,
   "metadata": {},
   "outputs": [
    {
     "data": {
      "text/plain": [
       "(tensor([[[ 1.0311, -0.7048,  1.0131, -0.3308],\n",
       "          [ 0.5177,  0.3878, -0.5797, -0.1691],\n",
       "          [-0.5733,  0.5069, -0.4752, -0.4920],\n",
       "          [ 0.2704, -0.5628,  0.6793,  0.4405]]]),\n",
       " torch.Size([1, 4, 4]))"
      ]
     },
     "execution_count": 200,
     "metadata": {},
     "output_type": "execute_result"
    }
   ],
   "source": [
    "# Another way of doing this\n",
    "random_tensor_unsqueeze_way2 = random_tensor.unsqueeze(dim=0)\n",
    "random_tensor_unsqueeze_way2, random_tensor_unsqueeze_way2.shape"
   ]
  },
  {
   "cell_type": "markdown",
   "metadata": {},
   "source": [
    "## torch.permute(input, dims)"
   ]
  },
  {
   "cell_type": "code",
   "execution_count": 201,
   "metadata": {},
   "outputs": [
    {
     "name": "stdout",
     "output_type": "stream",
     "text": [
      "tensor([[[-0.3609, -0.0606,  0.0733,  0.8187, -0.4257],\n",
      "         [-1.3371, -0.1933,  0.6526, -1.9006,  0.2286],\n",
      "         [ 0.0249, -0.3460, -1.6535,  0.6814,  1.4611],\n",
      "         [-0.3098, -1.6022,  1.3529,  1.2888,  0.0523]]])\n",
      "torch.Size([1, 4, 5])\n",
      "3\n"
     ]
    }
   ],
   "source": [
    "# Create a random tensor \n",
    "tensor_permute_opetation = torch.randn(1,4,5)\n",
    "print(tensor_permute_opetation)\n",
    "print(tensor_permute_opetation.shape)\n",
    "print(tensor_permute_opetation.ndim)\n"
   ]
  },
  {
   "cell_type": "code",
   "execution_count": 202,
   "metadata": {},
   "outputs": [
    {
     "name": "stdout",
     "output_type": "stream",
     "text": [
      "tensor([[[-0.3609],\n",
      "         [-0.0606],\n",
      "         [ 0.0733],\n",
      "         [ 0.8187],\n",
      "         [-0.4257]],\n",
      "\n",
      "        [[-1.3371],\n",
      "         [-0.1933],\n",
      "         [ 0.6526],\n",
      "         [-1.9006],\n",
      "         [ 0.2286]],\n",
      "\n",
      "        [[ 0.0249],\n",
      "         [-0.3460],\n",
      "         [-1.6535],\n",
      "         [ 0.6814],\n",
      "         [ 1.4611]],\n",
      "\n",
      "        [[-0.3098],\n",
      "         [-1.6022],\n",
      "         [ 1.3529],\n",
      "         [ 1.2888],\n",
      "         [ 0.0523]]])\n",
      "torch.Size([4, 5, 1])\n",
      "3\n"
     ]
    }
   ],
   "source": [
    "# now permute over tensor_permute_operation tensor\n",
    "tensor_permuted = tensor_permute_opetation.permute(1,2,0)\n",
    "print(tensor_permuted)\n",
    "print(tensor_permuted.shape)\n",
    "print(tensor_permuted.ndim)"
   ]
  },
  {
   "cell_type": "markdown",
   "metadata": {},
   "source": [
    "# Indexing (selecting data from tensors)"
   ]
  },
  {
   "cell_type": "markdown",
   "metadata": {},
   "source": [
    "### Sometimes we want to select specific data from tensors (for example, only the first column or first row)"
   ]
  },
  {
   "cell_type": "code",
   "execution_count": 203,
   "metadata": {},
   "outputs": [
    {
     "name": "stdout",
     "output_type": "stream",
     "text": [
      "tensor([[[-1.2956,  0.0503, -0.5855, -0.3900,  0.0358],\n",
      "         [ 0.1206, -0.8057, -0.2076, -1.1586,  0.3581],\n",
      "         [ 0.4788,  1.3537, -0.1593, -0.4249,  0.9442],\n",
      "         [-0.1849,  1.0608,  1.0687,  1.3065,  0.4598],\n",
      "         [ 0.2618, -0.7599, -2.0461, -1.5295,  0.4049]]])\n",
      "torch.Size([1, 5, 5])\n",
      "3\n"
     ]
    }
   ],
   "source": [
    "# Create a tensor shape will be (1, 5, 5)\n",
    "tensorA = torch.randn(1, 5, 5)\n",
    "print(tensorA)\n",
    "print(tensorA.shape)\n",
    "print(tensorA.ndim)"
   ]
  },
  {
   "cell_type": "markdown",
   "metadata": {},
   "source": [
    "### Indexing values goes outer dimension -> inner dimension "
   ]
  },
  {
   "cell_type": "code",
   "execution_count": 205,
   "metadata": {},
   "outputs": [
    {
     "name": "stdout",
     "output_type": "stream",
     "text": [
      "First square bracket :\n",
      " tensor([[-1.2956,  0.0503, -0.5855, -0.3900,  0.0358],\n",
      "        [ 0.1206, -0.8057, -0.2076, -1.1586,  0.3581],\n",
      "        [ 0.4788,  1.3537, -0.1593, -0.4249,  0.9442],\n",
      "        [-0.1849,  1.0608,  1.0687,  1.3065,  0.4598],\n",
      "        [ 0.2618, -0.7599, -2.0461, -1.5295,  0.4049]])\n",
      "Second square bracket :\n",
      " tensor([-1.2956,  0.0503, -0.5855, -0.3900,  0.0358])\n",
      "Third square bracket :\n",
      " -1.2955713272094727\n"
     ]
    }
   ],
   "source": [
    "# Lets index bracket by bracket\n",
    "print(f\"First square bracket :\\n {tensorA[0]}\")\n",
    "print(f\"Second square bracket :\\n {tensorA[0][0]}\")\n",
    "print(f\"Third square bracket :\\n {tensorA[0][0][0]}\")\n"
   ]
  },
  {
   "cell_type": "markdown",
   "metadata": {},
   "source": [
    "## You can also use ( : ) to specify \"all values in this dimension\" and then use a comma (,) to add another dimension."
   ]
  },
  {
   "cell_type": "code",
   "execution_count": 209,
   "metadata": {},
   "outputs": [
    {
     "name": "stdout",
     "output_type": "stream",
     "text": [
      "tensor([[-1.2956,  0.0503, -0.5855, -0.3900,  0.0358]])\n",
      "tensor([[ 0.1206, -0.8057, -0.2076, -1.1586,  0.3581]])\n",
      "tensor([[ 0.4788,  1.3537, -0.1593, -0.4249,  0.9442]])\n",
      "tensor([[-0.1849,  1.0608,  1.0687,  1.3065,  0.4598]])\n",
      "tensor([[ 0.2618, -0.7599, -2.0461, -1.5295,  0.4049]])\n"
     ]
    }
   ],
   "source": [
    "# Get all values of 0th dimension and the 0 index of 1st dimension\n",
    "print(tensorA[:, 0])\n",
    "print(tensorA[:, 1])\n",
    "print(tensorA[:, 2])\n",
    "print(tensorA[:, 3])\n",
    "print(tensorA[:, 4])"
   ]
  },
  {
   "cell_type": "code",
   "execution_count": 212,
   "metadata": {},
   "outputs": [
    {
     "name": "stdout",
     "output_type": "stream",
     "text": [
      "tensor([[-1.2956,  0.1206,  0.4788, -0.1849,  0.2618]])\n"
     ]
    }
   ],
   "source": [
    "\n",
    "# Get all values of 0th & 1st dimensions but only index 1 of 2nd dimension\n",
    "print(tensorA[:, :, 0])\n"
   ]
  },
  {
   "cell_type": "code",
   "execution_count": 213,
   "metadata": {},
   "outputs": [
    {
     "data": {
      "text/plain": [
       "tensor([-0.8057])"
      ]
     },
     "execution_count": 213,
     "metadata": {},
     "output_type": "execute_result"
    }
   ],
   "source": [
    "# Get all values of the 0 dimension but only the 1 index value of the 1st and 2nd dimension\n",
    "tensorA[:, 1, 1]"
   ]
  },
  {
   "cell_type": "markdown",
   "metadata": {},
   "source": [
    "# Pytorch and Numpy"
   ]
  },
  {
   "cell_type": "markdown",
   "metadata": {},
   "source": [
    "## Numpy array -> pytorch tensor = torch.from_numpy(ndarray)\n",
    "## Pytorch tensor -> Numpy Array = torch.Tensor.numpy()"
   ]
  },
  {
   "cell_type": "code",
   "execution_count": 231,
   "metadata": {},
   "outputs": [
    {
     "data": {
      "text/plain": [
       "array([ 1.,  3.,  5.,  7.,  9., 11., 13.])"
      ]
     },
     "execution_count": 231,
     "metadata": {},
     "output_type": "execute_result"
    }
   ],
   "source": [
    "# Numpy to tensor\n",
    "import torch\n",
    "import numpy as np\n",
    "\n",
    "# lets create an array\n",
    "array = np.arange(1.0, 15.0, 2)\n",
    "array"
   ]
  },
  {
   "cell_type": "code",
   "execution_count": 232,
   "metadata": {},
   "outputs": [
    {
     "data": {
      "text/plain": [
       "tensor([ 1.,  3.,  5.,  7.,  9., 11., 13.], dtype=torch.float64)"
      ]
     },
     "execution_count": 232,
     "metadata": {},
     "output_type": "execute_result"
    }
   ],
   "source": [
    "# Convert to tensor\n",
    "tensor = torch.from_numpy(array)\n",
    "tensor"
   ]
  },
  {
   "cell_type": "code",
   "execution_count": 239,
   "metadata": {},
   "outputs": [
    {
     "data": {
      "text/plain": [
       "tensor([ 1, 11, 21, 31, 41, 51, 61, 71, 81, 91])"
      ]
     },
     "execution_count": 239,
     "metadata": {},
     "output_type": "execute_result"
    }
   ],
   "source": [
    "# tensor to numpy array\n",
    "tensor = torch.arange(1, 100, 10)\n",
    "tensor\n"
   ]
  },
  {
   "cell_type": "code",
   "execution_count": 240,
   "metadata": {},
   "outputs": [
    {
     "data": {
      "text/plain": [
       "array([ 1, 11, 21, 31, 41, 51, 61, 71, 81, 91])"
      ]
     },
     "execution_count": 240,
     "metadata": {},
     "output_type": "execute_result"
    }
   ],
   "source": [
    "numpy_tensor = tensor.numpy()\n",
    "numpy_tensor"
   ]
  },
  {
   "cell_type": "markdown",
   "metadata": {},
   "source": [
    "# Reproducibility (trying to take the random out of random)"
   ]
  },
  {
   "cell_type": "code",
   "execution_count": 241,
   "metadata": {},
   "outputs": [
    {
     "name": "stdout",
     "output_type": "stream",
     "text": [
      "tensor([[ 0.4408, -0.1483, -2.3184,  1.3032, -0.0639],\n",
      "        [-1.3667,  0.3298, -0.9827,  0.3018,  0.1787],\n",
      "        [-0.1293, -0.9291,  2.2508,  1.0012,  1.3642],\n",
      "        [ 0.6333,  0.4050,  0.3416, -0.2214,  1.2554]])\n",
      "tensor([[ 1.0514e+00,  7.4915e-03, -7.7365e-02,  6.4269e-01, -3.1571e-01],\n",
      "        [ 2.6911e-01,  8.5404e-02, -1.3793e+00,  6.2580e-01, -2.5850e+00],\n",
      "        [-2.4000e-02, -1.2219e-01, -2.6935e-01, -1.6191e+00,  1.2588e-03],\n",
      "        [ 1.1930e+00,  1.9373e+00,  7.2871e-01,  9.8089e-01,  4.1459e-01]])\n"
     ]
    },
    {
     "data": {
      "text/plain": [
       "tensor([[False, False, False, False, False],\n",
       "        [False, False, False, False, False],\n",
       "        [False, False, False, False, False],\n",
       "        [False, False, False, False, False]])"
      ]
     },
     "execution_count": 241,
     "metadata": {},
     "output_type": "execute_result"
    }
   ],
   "source": [
    "# Create two random tensors\n",
    "random_tensor_A = torch.randn(4,5)\n",
    "random_tensor_B = torch.randn(4,5)\n",
    "print(random_tensor_A)\n",
    "print(random_tensor_B)\n",
    "random_tensor_A == random_tensor_B"
   ]
  },
  {
   "cell_type": "markdown",
   "metadata": {},
   "source": [
    "## torch.manual_seed(seed) where seed = 42 -> used it for getting almost similiar random values\n"
   ]
  },
  {
   "cell_type": "code",
   "execution_count": 247,
   "metadata": {},
   "outputs": [
    {
     "name": "stdout",
     "output_type": "stream",
     "text": [
      "tensor([[ 1.9269,  1.4873,  0.9007, -2.1055, -0.7581],\n",
      "        [ 1.0783,  0.8008,  1.6806,  0.3559, -0.6866],\n",
      "        [-0.4934,  0.2415, -0.2316,  0.0418, -0.2516],\n",
      "        [ 0.8599, -0.3097, -0.3957,  0.8034, -0.6216]])\n",
      "tensor([[ 1.9269,  1.4873,  0.9007, -2.1055, -0.7581],\n",
      "        [ 1.0783,  0.8008,  1.6806,  0.3559, -0.6866],\n",
      "        [-0.4934,  0.2415, -0.2316,  0.0418, -0.2516],\n",
      "        [ 0.8599, -0.3097, -0.3957,  0.8034, -0.6216]])\n"
     ]
    },
    {
     "data": {
      "text/plain": [
       "tensor([[True, True, True, True, True],\n",
       "        [True, True, True, True, True],\n",
       "        [True, True, True, True, True],\n",
       "        [True, True, True, True, True]])"
      ]
     },
     "execution_count": 247,
     "metadata": {},
     "output_type": "execute_result"
    }
   ],
   "source": [
    "import random\n",
    "\n",
    "RANDOM_SEED = 42 # here we used 42 but it could be anything\n",
    "torch.manual_seed(seed=RANDOM_SEED)\n",
    "random_tensor_C = torch.randn(4, 5)\n",
    "\n",
    "torch.manual_seed(seed=RANDOM_SEED)\n",
    "random_tensor_D = torch.randn(4, 5)\n",
    "print(random_tensor_C)\n",
    "print(random_tensor_D)\n",
    "\n",
    "random_tensor_C == random_tensor_D"
   ]
  },
  {
   "cell_type": "markdown",
   "metadata": {},
   "source": [
    "# Running tensors on GPUs (and making faster computations)"
   ]
  },
  {
   "cell_type": "code",
   "execution_count": 251,
   "metadata": {},
   "outputs": [
    {
     "name": "stdout",
     "output_type": "stream",
     "text": [
      "Mon Nov 18 15:20:23 2024       \n",
      "+---------------------------------------------------------------------------------------+\n",
      "| NVIDIA-SMI 530.41.03              Driver Version: 530.41.03    CUDA Version: 12.1     |\n",
      "|-----------------------------------------+----------------------+----------------------+\n",
      "| GPU  Name                  Persistence-M| Bus-Id        Disp.A | Volatile Uncorr. ECC |\n",
      "| Fan  Temp  Perf            Pwr:Usage/Cap|         Memory-Usage | GPU-Util  Compute M. |\n",
      "|                                         |                      |               MIG M. |\n",
      "|=========================================+======================+======================|\n",
      "|   0  NVIDIA GeForce RTX 2080 Ti      Off| 00000000:05:00.0 Off |                  N/A |\n",
      "|  0%   40C    P8               21W / 250W|     85MiB / 11264MiB |      0%      Default |\n",
      "|                                         |                      |                  N/A |\n",
      "+-----------------------------------------+----------------------+----------------------+\n",
      "                                                                                         \n",
      "+---------------------------------------------------------------------------------------+\n",
      "| Processes:                                                                            |\n",
      "|  GPU   GI   CI        PID   Type   Process name                            GPU Memory |\n",
      "|        ID   ID                                                             Usage      |\n",
      "|=======================================================================================|\n",
      "|    0   N/A  N/A      1246      G   /usr/lib/xorg/Xorg                           71MiB |\n",
      "|    0   N/A  N/A      1511      G   /usr/bin/gnome-shell                          8MiB |\n",
      "+---------------------------------------------------------------------------------------+\n"
     ]
    }
   ],
   "source": [
    "!nvidia-smi # check your gpu configaration"
   ]
  },
  {
   "cell_type": "code",
   "execution_count": 252,
   "metadata": {},
   "outputs": [
    {
     "data": {
      "text/plain": [
       "True"
      ]
     },
     "execution_count": 252,
     "metadata": {},
     "output_type": "execute_result"
    }
   ],
   "source": [
    "# check you gpu\n",
    "torch.cuda.is_available()"
   ]
  },
  {
   "cell_type": "code",
   "execution_count": 255,
   "metadata": {},
   "outputs": [
    {
     "data": {
      "text/plain": [
       "1"
      ]
     },
     "execution_count": 255,
     "metadata": {},
     "output_type": "execute_result"
    }
   ],
   "source": [
    "# count how many gpu you have\n",
    "torch.cuda.device_count()"
   ]
  },
  {
   "cell_type": "code",
   "execution_count": 256,
   "metadata": {},
   "outputs": [
    {
     "data": {
      "text/plain": [
       "'cuda'"
      ]
     },
     "execution_count": 256,
     "metadata": {},
     "output_type": "execute_result"
    }
   ],
   "source": [
    "# Set device type\n",
    "device = 'cuda' if torch.cuda.is_available() else 'cpu'\n",
    "device"
   ]
  },
  {
   "cell_type": "markdown",
   "metadata": {},
   "source": [
    "##  Putting tensors (and models) on the GPU"
   ]
  },
  {
   "cell_type": "markdown",
   "metadata": {},
   "source": [
    "### We can put tensors (and models) on a specific device by calling to(device) on them."
   ]
  },
  {
   "cell_type": "code",
   "execution_count": 262,
   "metadata": {},
   "outputs": [
    {
     "data": {
      "text/plain": [
       "tensor([[ 0.1498, -0.2089, -0.3870],\n",
       "        [ 0.9912,  0.4679, -0.2049]], device='cuda:0')"
      ]
     },
     "execution_count": 262,
     "metadata": {},
     "output_type": "execute_result"
    }
   ],
   "source": [
    "# tensor moves to gpu \n",
    "tensor = torch.randn(2, 3)\n",
    "tensor_gpu = tensor.to(device)\n",
    "tensor_gpu"
   ]
  },
  {
   "cell_type": "markdown",
   "metadata": {},
   "source": [
    "## Move to gpu to cpu -> tensor_name.cpu()"
   ]
  },
  {
   "cell_type": "code",
   "execution_count": 268,
   "metadata": {},
   "outputs": [
    {
     "data": {
      "text/plain": [
       "array([[ 0.1497797 , -0.20889392, -0.38702095],\n",
       "       [ 0.99123776,  0.46790305, -0.20493191]], dtype=float32)"
      ]
     },
     "execution_count": 268,
     "metadata": {},
     "output_type": "execute_result"
    }
   ],
   "source": [
    "tensor_gpu.cpu().numpy() # the whole tensor won't leave to the gpu memory only it creates a copy for cpu"
   ]
  },
  {
   "cell_type": "code",
   "execution_count": 270,
   "metadata": {},
   "outputs": [
    {
     "data": {
      "text/plain": [
       "tensor([[ 0.1498, -0.2089, -0.3870],\n",
       "        [ 0.9912,  0.4679, -0.2049]], device='cuda:0')"
      ]
     },
     "execution_count": 270,
     "metadata": {},
     "output_type": "execute_result"
    }
   ],
   "source": [
    "tensor_gpu # you can see still the tensor remains on gpu"
   ]
  },
  {
   "cell_type": "code",
   "execution_count": null,
   "metadata": {},
   "outputs": [],
   "source": []
  }
 ],
 "metadata": {
  "kernelspec": {
   "display_name": "Naim Jupyter Kernel",
   "language": "python",
   "name": "naim_jkernel"
  },
  "language_info": {
   "codemirror_mode": {
    "name": "ipython",
    "version": 3
   },
   "file_extension": ".py",
   "mimetype": "text/x-python",
   "name": "python",
   "nbconvert_exporter": "python",
   "pygments_lexer": "ipython3",
   "version": "3.10.9"
  }
 },
 "nbformat": 4,
 "nbformat_minor": 2
}
